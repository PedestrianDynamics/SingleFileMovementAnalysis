{
 "cells": [
  {
   "cell_type": "markdown",
   "metadata": {},
   "source": [
    "# User guide: top-view experiments\n",
    "The following example is to analyse a single-file movement experiment recorded using a top-view camera which records the entire experiment. "
   ]
  },
  {
   "cell_type": "markdown",
   "metadata": {},
   "source": [
    "Import the required libraries:"
   ]
  },
  {
   "cell_type": "code",
   "execution_count": 3,
   "metadata": {},
   "outputs": [],
   "source": [
    "import os\n",
    "import sys\n",
    "sys.path.append(os.path.abspath(os.path.join('..', 'helper'))+'/')\n",
    "from experiments import EXPERIMENTS\n",
    "from helper import process_data\n",
    "\n",
    "from typing import List\n",
    "import numpy as np\n",
    "import numpy.typing as npt\n",
    "import pandas as pd\n",
    "import sqlite3\n"
   ]
  },
  {
   "cell_type": "markdown",
   "metadata": {},
   "source": [
    "define the following arguments:"
   ]
  },
  {
   "cell_type": "code",
   "execution_count": 4,
   "metadata": {},
   "outputs": [],
   "source": [
    "path=\"/home/rudinasbaih/Documents/SingleFileMovementAnalysis/demos/top_view_exp/01_schoolGymBay_mainCircle_germany/traj/00_raw\"\n",
    "exp_key=\"schoolGymBayMainCircle_germany_Wang\"\n",
    "files=[\"GymBay_main_15_1.txt\"]"
   ]
  },
  {
   "cell_type": "markdown",
   "metadata": {},
   "source": [
    "do the transformation:"
   ]
  },
  {
   "cell_type": "code",
   "execution_count": 6,
   "metadata": {},
   "outputs": [],
   "source": [
    "for file in files:\n",
    "    file_name = os.path.splitext(file)[0]\n",
    "    file_type = os.path.splitext(file)[1]  # extension of the data file\n",
    "    # format of the file\n",
    "    if file_type == \".sqlite\":\n",
    "        data = read_sqlite_file(path, file)\n",
    "        data = data.to_numpy()  # fr, pedID, x, y, ori_x, ori_y\n",
    "    else:\n",
    "        e = EXPERIMENTS[exp_key]\n",
    "        data = np.loadtxt(\"%s/%s\" % (path, file), skiprows=1, delimiter=e.delimiter)\n",
    "\n",
    "    # setup coordination system transformation\n",
    "    data = process_data(data, exp_key)\n",
    "    print(data)"
   ]
  }
 ],
 "metadata": {
  "kernelspec": {
   "display_name": "base",
   "language": "python",
   "name": "python3"
  },
  "language_info": {
   "codemirror_mode": {
    "name": "ipython",
    "version": 3
   },
   "file_extension": ".py",
   "mimetype": "text/x-python",
   "name": "python",
   "nbconvert_exporter": "python",
   "pygments_lexer": "ipython3",
   "version": "3.11.5"
  }
 },
 "nbformat": 4,
 "nbformat_minor": 2
}
