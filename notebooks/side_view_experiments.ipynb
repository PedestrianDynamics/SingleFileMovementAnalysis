{
 "cells": [
  {
   "cell_type": "markdown",
   "metadata": {},
   "source": [
    "# Analysis of side-view experiments"
   ]
  },
  {
   "cell_type": "markdown",
   "metadata": {},
   "source": [
    "The following code is to analyze single-file movement experiments recorded using a side-view camera that captures the straight part of the oval setup.\n",
    "\n",
    "The output of this analysis includes the values of the movement quantities (Voronoi 1D density, individual instantaneous speed, and headway distance) along with plots that depict the following relationships:\n",
    "- Space-time diagrams\n",
    "- Time-density/speed diagrams (transit, and steady states)\n",
    "- Fundamental diagram (density-speed)\n",
    "- Headway distance-speed diagrams\n",
    "\n",
    "The aforementioned movement quantities (Voronoi 1D density, individual instantaneous speed, and headway distance) are calculated using the equations outlined in [Subaih et al.](10.1109/ACCESS.2020.2973917)"
   ]
  },
  {
   "cell_type": "markdown",
   "metadata": {},
   "source": [
    "## Example: let us get started!\n"
   ]
  },
  {
   "cell_type": "markdown",
   "metadata": {},
   "source": [
    "We will analyze the following single-file movement experiment: [Influence of gender in single-file movement](https://doi.org/10.34735/ped.2018.5), specifically the mixed-alternating gender experiments (N=14, N=20, N=24, and N=30).\n",
    "\n",
    "<p align=\"center\">\n",
    "    <img src=\"demo_data/gender_subaih2020.png\" alt=\"Alternative text\"/>\n",
    "</p>\n"
   ]
  },
  {
   "cell_type": "markdown",
   "metadata": {},
   "source": [
    "> **NOTE:** The demo trajectory data are from the [Pedestrian Dynamics Data Archive](https://ped.fz-juelich.de/da/doku.php?id=start)."
   ]
  },
  {
   "cell_type": "markdown",
   "metadata": {},
   "source": [
    "### Read the raw trajectories"
   ]
  },
  {
   "cell_type": "markdown",
   "metadata": {},
   "source": [
    "First, we need to define the following arguments:\n",
    "- ```path_traj_raw```: the path to the folder containing the raw trajectory data.\n",
    "- ```files_traj_raw```: the names of the data files containing the raw trajectories."
   ]
  },
  {
   "cell_type": "code",
   "execution_count": null,
   "metadata": {},
   "outputs": [],
   "source": [
    "path_traj_raw=\"../notebooks/demo_data/genderMixedAlternating_palestine_subaih2019/traj/00_raw\" \n",
    "files_traj_raw=[\"UX_14_1.txt\",\n",
    "                \"UX_20_1.txt\",\n",
    "                \"UX_24_1.txt\",\n",
    "                \"UX_30_1.txt\"]"
   ]
  },
  {
   "cell_type": "markdown",
   "metadata": {},
   "source": [
    "Next, we need to load the data into a Pandas DataFrame and print the raw trajectory data to check the data file format:"
   ]
  },
  {
   "cell_type": "markdown",
   "metadata": {},
   "source": [
    "> **NOTE:** change the values of ```delimiter=...```, ```names=...```, and ```comment=...``` arguments based on the header names of the data files, or remove the arguments for .csv files."
   ]
  },
  {
   "cell_type": "markdown",
   "metadata": {},
   "source": [
    "> **NOTE:** there are different file formats and structures. Therefore, in all the following code blocks, the indexes of the Pandas data frames should be adjusted according to the column names from the loaded raw trajectory data."
   ]
  },
  {
   "cell_type": "code",
   "execution_count": null,
   "metadata": {},
   "outputs": [],
   "source": [
    "import numpy as np\n",
    "import pandas as pd\n",
    "\n",
    "data_traj_raw=pd.read_csv(path_traj_raw+\"/\"+files_traj_raw[0], \n",
    "                          comment=\"#\", \n",
    "                          delimiter=\"\\t\",\n",
    "                          names=[\"ID\",\"frame\",\"x(m)\",\"y(m)\",\"z(m)\"])\n",
    "print(data_traj_raw.head()) "
   ]
  },
  {
   "cell_type": "markdown",
   "metadata": {},
   "source": [
    "Then, plot the trajectories of pedestrians using the (x,y) coordinates from the raw trajectory files. "
   ]
  },
  {
   "cell_type": "code",
   "execution_count": null,
   "metadata": {},
   "outputs": [],
   "source": [
    "import matplotlib.pyplot as plt\n",
    "plt.style.use('../helper/plotsettings.mplystyle')\n",
    "\n",
    "dic_traj_raw={}\n",
    "\n",
    "for file in files_traj_raw:\n",
    "    # read the raw trajectories\n",
    "    data_traj_raw=pd.read_csv(path_traj_raw+\"/\"+file,\n",
    "                              comment=\"#\",\n",
    "                              delimiter=\"\\t\",\n",
    "                              names=[\"ID\",\"frame\",\"x(m)\",\"y(m)\",\"z(m)\"])\n",
    "\n",
    "    # save the raw trajectories in a dictionary \n",
    "    dic_traj_raw[file]=data_traj_raw\n",
    "    \n",
    "    # plot raw trajectories for each pedestrian\n",
    "    fig = plt.figure(figsize=(7, 6))\n",
    "    for ID in data_traj_raw[\"ID\"].unique():\n",
    "        plt.plot(data_traj_raw[data_traj_raw[\"ID\"]==ID][\"x(m)\"],\n",
    "                 data_traj_raw[data_traj_raw[\"ID\"]==ID][\"y(m)\"],\n",
    "                 \"b-\",\n",
    "                 linewidth=0.5)\n",
    "        \n",
    "    plt.title(f'File: {file}')\n",
    "    plt.xlabel(r\"$\\rm x~[m]$\")\n",
    "    plt.ylabel(r\"$\\rm y~[m]$\")\n",
    "    plt.tight_layout()\n",
    "    # plt.savefig(f'raw_traj_{file}.pdf', bbox_inches='tight')\n",
    "    plt.show()"
   ]
  },
  {
   "cell_type": "markdown",
   "metadata": {},
   "source": [
    "### Apply the transformation additional"
   ]
  },
  {
   "cell_type": "markdown",
   "metadata": {},
   "source": [
    "First, we need to apply the proper transformation (i.e., convert the unit of the x and y values from centimeter to meter, shift, rotate). We store the transformation data for the available single-file movement datasets in the data class, [experiments.py](../helper/experiments.py), as attributes along with other data required for the analysis (the required attributes documented inside [experiments.py](../helper/experiments.py)). "
   ]
  },
  {
   "cell_type": "markdown",
   "metadata": {},
   "source": [
    "> **NOTE:** the trajectories (x and y positions) of the pedestrians should be vertical along the x-axis and starting from x=0."
   ]
  },
  {
   "cell_type": "markdown",
   "metadata": {},
   "source": [
    "> **NOTE:** the new transformation data can be saved as an object in the data class [experiments.py](../helper/experiments.py), as the following example:\n",
    "\n",
    "```py\n",
    "    \"gender_palestine_Subaih\": ExperimentData(\n",
    "        link_data=\"https://doi.org/10.34735/ped.2018.5\",\n",
    "        shift_x=0,\n",
    "        shift_y=0,\n",
    "        unit=1,\n",
    "        Min=0,\n",
    "        Max=3.14,\n",
    "        fps=25,\n",
    "        length=3.14,\n",
    "        circumference=3.14,\n",
    "        camera_capture=1\n",
    "    )\n",
    "``` \n",
    "\n",
    "or choose one of the stored objects:"
   ]
  },
  {
   "cell_type": "code",
   "execution_count": null,
   "metadata": {},
   "outputs": [],
   "source": [
    "import os\n",
    "import sys\n",
    "sys.path.append(os.path.abspath(os.path.join('..', 'helper'))+'/')\n",
    "from experiments import EXPERIMENTS\n",
    "\n",
    "# the key of the experiment (object from class data) \n",
    "exp_key=\"gender_palestine_Subaih\" \n",
    "e = EXPERIMENTS[exp_key]"
   ]
  },
  {
   "cell_type": "markdown",
   "metadata": {},
   "source": [
    "retrieve the following attributes required for the transformation:\n",
    "- ```min_bound```: min boundary of the straight area (measurement area) (if applicable).\n",
    "- ```max_bound```: max boundary of the straight area (measurement area) (if applicable).\n",
    "- ```unit```: 100 if data are in cm. Otherwise 1."
   ]
  },
  {
   "cell_type": "code",
   "execution_count": null,
   "metadata": {},
   "outputs": [],
   "source": [
    "min_bound = e.Min\n",
    "max_bound = e.Max\n",
    "unit = e.unit"
   ]
  },
  {
   "cell_type": "markdown",
   "metadata": {},
   "source": [
    "Now, apply the transformation additional function to modify the trajectory data:"
   ]
  },
  {
   "cell_type": "code",
   "execution_count": null,
   "metadata": {},
   "outputs": [],
   "source": [
    "from helper import process_data\n",
    "\n",
    "dict_transformation_additional= {}\n",
    "\n",
    "for key in dic_traj_raw.keys():\n",
    "    data_traj_raw=dic_traj_raw[key]\n",
    "    x_y_transformed = process_data(data_traj_raw[[\"x(m)\",\"y(m)\"]].to_numpy(),\n",
    "                                   exp_key)\n",
    "    data_traj_tranformed = data_traj_raw.copy()\n",
    "    data_traj_tranformed[[\"x(m)\",\"y(m)\"]]=pd.DataFrame(x_y_transformed, columns=[\"x(m)\",\"y(m)\"])\n",
    "\n",
    "    if (min_bound is not None) and (max_bound is not None):  # data inside measurement area (unique for each experiment)\n",
    "        data_traj_tranformed = data_traj_tranformed[((data_traj_tranformed['x(m)'] / unit) >= min_bound) & ((data_traj_tranformed['y(m)'] / unit) <= max_bound)]\n",
    "\n",
    "    dict_transformation_additional[key] = data_traj_tranformed\n",
    "\n",
    "    # plot the transformed trajectories for each pedestrian\n",
    "    fig = plt.figure(figsize=(7, 6))\n",
    "    for ID in data_traj_tranformed[\"ID\"].unique():\n",
    "        plt.plot(data_traj_tranformed[data_traj_tranformed[\"ID\"]==ID][\"x(m)\"],\n",
    "                 data_traj_tranformed[data_traj_tranformed[\"ID\"]==ID][\"y(m)\"],\n",
    "                 \"b-\",\n",
    "                 linewidth=0.5)\n",
    "        \n",
    "    plt.title(f'File: {key}')\n",
    "    plt.xlabel(r\"$\\rm x~[m]$\")\n",
    "    plt.ylabel(r\"$\\rm y~[m]$\")\n",
    "    plt.tight_layout()\n",
    "    # plt.savefig(f'trans_additional_{key}.pdf', bbox_inches='tight')\n",
    "    plt.show()\n"
   ]
  },
  {
   "cell_type": "markdown",
   "metadata": {},
   "source": [
    "### Plot the space-time relation"
   ]
  },
  {
   "cell_type": "markdown",
   "metadata": {},
   "source": [
    "To plot the space-time relation, we need to plot the x-position values from the transformed trajectories data of pedestrians as follows:"
   ]
  },
  {
   "cell_type": "markdown",
   "metadata": {},
   "source": [
    "First, retrieve the following experiments' attributes:\n",
    "- ```corridor_length```: length of the whole corridor (oval circumference).\n",
    "- ```fps```: number of frames per second that the camera captures."
   ]
  },
  {
   "cell_type": "code",
   "execution_count": null,
   "metadata": {},
   "outputs": [],
   "source": [
    "corridor_length = e.circumference\n",
    "fps=e.fps"
   ]
  },
  {
   "cell_type": "code",
   "execution_count": null,
   "metadata": {},
   "outputs": [],
   "source": [
    "for key in dict_transformation_additional.keys():\n",
    "    fig = plt.figure(figsize=(6, 8))\n",
    "\n",
    "    data = dict_transformation_additional[key]\n",
    "    \n",
    "    for ped_id in set(data[\"ID\"]):\n",
    "        # Take only the trajectory for one person\n",
    "        p_data = data.loc[data[\"ID\"] == ped_id]\n",
    "        plt.plot(p_data[\"x(m)\"], \n",
    "                 p_data[\"frame\"] / fps,\n",
    "                 \"b-\",\n",
    "                 linewidth=1)\n",
    "\n",
    "    plt.title(f\"File: {key}\")\n",
    "    plt.xlabel(r\"Space [$\\rm m$]\")\n",
    "    plt.ylabel(r\"Time [$\\rm sec.$]\")\n",
    "    plt.tight_layout()\n",
    "    plt.show()"
   ]
  },
  {
   "cell_type": "markdown",
   "metadata": {},
   "source": [
    "### Calculate the speed and density of the pedestrians"
   ]
  },
  {
   "cell_type": "markdown",
   "metadata": {},
   "source": [
    "Here we calculate the individual instantaneous speed and the 1D Voronoi density for each pedestrian over time frames.\n",
    "\n",
    "First, we define the arguments required for the calculations:\n",
    "- ```camera_capture```: top-view, or side-view camera.\n",
    "- ```delta_t```: the time constant to calculate the speed."
   ]
  },
  {
   "cell_type": "code",
   "execution_count": null,
   "metadata": {},
   "outputs": [],
   "source": [
    "camera_capture = e.camera_capture\n",
    "delta_t=0.6"
   ]
  },
  {
   "cell_type": "markdown",
   "metadata": {},
   "source": [
    "then, we apply the function  ```calculate_speed_density_headway(...)``` to calculate the speed, density, and headway of each pedestrian:"
   ]
  },
  {
   "cell_type": "code",
   "execution_count": null,
   "metadata": {},
   "outputs": [],
   "source": [
    "from helper import calculate_speed_density_headway\n",
    "\n",
    "dic_speed_density_headway = {}\n",
    "\n",
    "for key in dict_transformation_additional.keys():\n",
    "    data = dict_transformation_additional[key]\n",
    "    new_data = np.array(data[['ID','frame','x(m)','y(m)','z(m)']])\n",
    "    result = calculate_speed_density_headway(new_data,\n",
    "                                                fps,\n",
    "                                                corridor_length,\n",
    "                                                camera_capture,\n",
    "                                                delta_t)\n",
    "    data_speed_density_headway = pd.DataFrame(result, \n",
    "                                              columns=['ID','frame','x(m)','y(m)','z(m)','speed(m/s)','headway(s)','density(1/m)'])\n",
    "    \n",
    "    dic_speed_density_headway[key] = data_speed_density_headway"
   ]
  },
  {
   "cell_type": "markdown",
   "metadata": {},
   "source": [
    "### Choose the steady state"
   ]
  },
  {
   "cell_type": "markdown",
   "metadata": {},
   "source": [
    "In the single-file movement experiments, pedestrian movement can be categorized into three states: transit states at the beginning and end of the experiment, where pedestrians increase and decrease their speed over time, respectively, and a steady state where pedestrians' speed remains stable over time.\n",
    "\n",
    "In this step, we need to select the time instances for the steady state to then plot the relations, such as density-speed and headway-speed."
   ]
  },
  {
   "cell_type": "markdown",
   "metadata": {},
   "source": [
    "> **NOTE:** Skip the 'Choose the steady state' section if you intend to apply the analysis to all states of pedestrian movement."
   ]
  },
  {
   "cell_type": "markdown",
   "metadata": {},
   "source": [
    "First, plot the time-speed/density relation:"
   ]
  },
  {
   "cell_type": "code",
   "execution_count": null,
   "metadata": {},
   "outputs": [],
   "source": [
    "for key in dic_speed_density_headway.keys():\n",
    "    rho_vel_head_data = dic_speed_density_headway[key]\n",
    "\n",
    "    fig = plt.figure(figsize=(7, 6))\n",
    "    plt.plot(rho_vel_head_data['frame'], \n",
    "             rho_vel_head_data['density(1/m)'], \n",
    "             'k-', \n",
    "             label=\"Density\",\n",
    "             linewidth=2)\n",
    "    plt.plot(rho_vel_head_data['frame'], \n",
    "             rho_vel_head_data['speed(m/s)'], \n",
    "             'b-', \n",
    "             label=\"Speed\",\n",
    "             linewidth=2)\n",
    "    \n",
    "    plt.title(f'File: {key}')\n",
    "    plt.xlabel(r\" $\\rm Time~[Frame]$\")\n",
    "    plt.ylabel(r\" $\\rm Space~[m]$\")\n",
    "    plt.legend()\n",
    "    plt.tight_layout()\n",
    "    plt.show()"
   ]
  },
  {
   "cell_type": "markdown",
   "metadata": {},
   "source": [
    "let's use the experiment file \"UX_14_1.txt\" to manually select the start and end frames of the steady state:"
   ]
  },
  {
   "cell_type": "code",
   "execution_count": null,
   "metadata": {},
   "outputs": [],
   "source": [
    "key=\"UX_14_1.txt\"\n",
    "st = 500 # start time frame of the steady state\n",
    "en = 2092 # end time frame of the steady state\n",
    "\n",
    "steady_state_data = dic_speed_density_headway[key]\n",
    "\n",
    "fig = plt.figure(figsize=(7, 6))\n",
    "plt.plot(steady_state_data['frame'], \n",
    "         steady_state_data['density(1/m)'], \n",
    "         'k-', \n",
    "         label=\"Density\",\n",
    "         linewidth=2)\n",
    "plt.plot(steady_state_data['frame'], \n",
    "         steady_state_data['speed(m/s)'], \n",
    "         'b-', \n",
    "         label=\"Speed\",\n",
    "         linewidth=2)\n",
    "\n",
    "plt.axvline(x=st, \n",
    "            linestyle=\"--\", \n",
    "            color='red')\n",
    "plt.axvline(x=en, \n",
    "            linestyle=\"--\", \n",
    "            color='red')\n",
    "\n",
    "plt.title(f'File: {key}')\n",
    "plt.xlabel(r\" $\\rm Time~[Frame]$\")\n",
    "plt.ylabel(r\" $\\rm Space~[m]$\")\n",
    "plt.legend()\n",
    "plt.tight_layout()\n",
    "# plt.savefig(f'Exp_{delta_t}_time_space.png')\n",
    "plt.show()"
   ]
  },
  {
   "cell_type": "markdown",
   "metadata": {},
   "source": [
    "save the start and end frames of all experiments' steady states in the following argument:"
   ]
  },
  {
   "cell_type": "code",
   "execution_count": null,
   "metadata": {},
   "outputs": [],
   "source": [
    "starts=[500,250,500,1000]\n",
    "ends=[2092,3637,3000,4300]"
   ]
  },
  {
   "cell_type": "markdown",
   "metadata": {},
   "source": [
    "extract the data corresponding to the steady state from all the experiments' data:"
   ]
  },
  {
   "cell_type": "code",
   "execution_count": null,
   "metadata": {},
   "outputs": [],
   "source": [
    "from helper import extract_steady_state\n",
    "\n",
    "dic_speed_density_headway_steady_state = {}\n",
    "\n",
    "for key, start, end in zip(dic_speed_density_headway.keys(), starts, ends):\n",
    "    steady_state_data = extract_steady_state(dic_speed_density_headway[key].to_numpy(),\n",
    "                                             start, \n",
    "                                             end)\n",
    "    dic_speed_density_headway_steady_state[key] = pd.DataFrame(steady_state_data, \n",
    "                                                               columns=['ID','frame','x(m)','y(m)','t(s)','speed(m/s)','headway(s)','density(1/m)'])"
   ]
  },
  {
   "cell_type": "markdown",
   "metadata": {},
   "source": [
    "### Plot the fundamental diagram (density-speed)"
   ]
  },
  {
   "cell_type": "markdown",
   "metadata": {},
   "source": [
    "Plot the fundamental diagram relation (density-speed), customizing the figure labels and adding the experiment name as the figure title:"
   ]
  },
  {
   "cell_type": "code",
   "execution_count": null,
   "metadata": {},
   "outputs": [],
   "source": [
    "labels = ['UX=14','UX=20','UX=24','UX=30']\n",
    "experiment_name=\"Palestine_Subaih2019\""
   ]
  },
  {
   "cell_type": "markdown",
   "metadata": {},
   "source": [
    "then, plot:"
   ]
  },
  {
   "cell_type": "code",
   "execution_count": null,
   "metadata": {},
   "outputs": [],
   "source": [
    "fig = plt.figure(figsize=(7, 6))\n",
    "\n",
    "for key,label in zip(dic_speed_density_headway_steady_state.keys(),labels):\n",
    "    data = dic_speed_density_headway_steady_state[key]\n",
    "    # data = data.sample(frac=np.minimum(.12,32469/data.shape[0])) # 12% of the total data\n",
    "    plt.scatter(data[\"density(1/m)\"], \n",
    "                data[\"speed(m/s)\"], \n",
    "                label=label, \n",
    "                alpha=0.5,\n",
    "                s=20)\n",
    "\n",
    "plt.xlabel(r\"Density $\\rm [m^{-1}]$\")\n",
    "plt.ylabel(r\"Speed $\\rm [m/s]$\")\n",
    "plt.legend()\n",
    "plt.title(f\"{experiment_name}\")\n",
    "# plt.xlim(0,6.4)\n",
    "# plt.ylim(-0.10,1.7)\n",
    "plt.tight_layout()\n",
    "# plt.savefig(f'palestine_density_speed_{delta_t}_FD.pdf', bbox_inches='tight')\n",
    "plt.show()"
   ]
  },
  {
   "cell_type": "markdown",
   "metadata": {},
   "source": [
    "### Plot the headway-speed relation"
   ]
  },
  {
   "cell_type": "markdown",
   "metadata": {},
   "source": [
    "and to plot the headway-speed relation:"
   ]
  },
  {
   "cell_type": "code",
   "execution_count": null,
   "metadata": {},
   "outputs": [],
   "source": [
    "fig = plt.figure(figsize=(7, 6))\n",
    "\n",
    "for key,label in zip(dic_speed_density_headway_steady_state.keys(),labels):\n",
    "    data = dic_speed_density_headway_steady_state[key]\n",
    "    # data = data.sample(frac=np.minimum(.12,32469/data.shape[0])) # 12% of the total data\n",
    "    plt.scatter(data[\"headway(s)\"], \n",
    "                data[\"speed(m/s)\"], \n",
    "                label=label, \n",
    "                alpha=0.5,\n",
    "                s=20)\n",
    "\n",
    "plt.xlabel(r\"Headway distance $\\rm [m]$\")\n",
    "plt.ylabel(r\"Speed $\\rm[m/s]$\")\n",
    "plt.legend()\n",
    "plt.title(f\"{experiment_name}\")\n",
    "# plt.savefig(f'palestine_headway_speed_{delta_t}_FD.pdf', bbox_inches='tight')\n",
    "plt.show()"
   ]
  },
  {
   "cell_type": "markdown",
   "metadata": {},
   "source": [
    "### Save the data into files"
   ]
  },
  {
   "cell_type": "markdown",
   "metadata": {},
   "source": [
    "Here are the codes to save all results in .csv files for the following:\n",
    "- Trajectory transformation additional data\n",
    "- Trajectory transformation straight data\n",
    "- Density, speed, and headway data"
   ]
  },
  {
   "cell_type": "markdown",
   "metadata": {},
   "source": [
    "First, choose the path of the directory to save the outputs:"
   ]
  },
  {
   "cell_type": "code",
   "execution_count": null,
   "metadata": {},
   "outputs": [],
   "source": [
    "path_output=\"../notebooks/demo_data/genderMixedAlternating_palestine_subaih2019\""
   ]
  },
  {
   "cell_type": "markdown",
   "metadata": {},
   "source": [
    "Then, save the data of transformation additional:"
   ]
  },
  {
   "cell_type": "code",
   "execution_count": null,
   "metadata": {},
   "outputs": [],
   "source": [
    "for key in dict_transformation_additional.keys():\n",
    "    data = dict_transformation_additional[key]\n",
    "    if not os.path.exists(path_output+\"/traj/02_transformation_additional/\"):\n",
    "        os.makedirs(path_output+\"/traj/02_transformation_additional/\")\n",
    "    data.to_csv(path_output+\"/traj/02_transformation_additional/\"+key, \n",
    "                sep='\\t',\n",
    "                index=False)"
   ]
  },
  {
   "cell_type": "markdown",
   "metadata": {},
   "source": [
    "save the caclulated movement quantities (density,speed, headway):"
   ]
  },
  {
   "cell_type": "code",
   "execution_count": null,
   "metadata": {},
   "outputs": [],
   "source": [
    "for key in dic_speed_density_headway.keys():\n",
    "    data = dic_speed_density_headway[key]\n",
    "    if not os.path.exists(path_output+\"/rho_vel_headway/\"):\n",
    "        os.makedirs(path_output+\"/rho_vel_headway/\")\n",
    "    data.to_csv(path_output+\"/rho_vel_headway/\"+key, \n",
    "                sep='\\t',\n",
    "                index=False)"
   ]
  },
  {
   "cell_type": "markdown",
   "metadata": {},
   "source": [
    "save the caclulated movement quantities (density,speed, headway) in the \n",
    "steady state:"
   ]
  },
  {
   "cell_type": "code",
   "execution_count": null,
   "metadata": {},
   "outputs": [],
   "source": [
    "for key in dic_speed_density_headway_steady_state.keys():\n",
    "    data = dic_speed_density_headway_steady_state[key]\n",
    "    if not os.path.exists(path_output+\"/rho_vel_headway/steady_state_data/\"):\n",
    "        os.makedirs(path_output+\"/rho_vel_headway/steady_state_data/\")\n",
    "    data.to_csv(path_output+\"/rho_vel_headway/steady_state_data/\"+key, \n",
    "                sep='\\t',\n",
    "                index=False)"
   ]
  }
 ],
 "metadata": {
  "kernelspec": {
   "display_name": "base",
   "language": "python",
   "name": "python3"
  },
  "language_info": {
   "codemirror_mode": {
    "name": "ipython",
    "version": 3
   },
   "file_extension": ".py",
   "mimetype": "text/x-python",
   "name": "python",
   "nbconvert_exporter": "python",
   "pygments_lexer": "ipython3",
   "version": "3.11.7"
  }
 },
 "nbformat": 4,
 "nbformat_minor": 2
}
